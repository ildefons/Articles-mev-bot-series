{
 "cells": [
  {
   "cell_type": "code",
   "execution_count": 1,
   "metadata": {},
   "outputs": [],
   "source": [
    "# %%\n",
    "# The following script reads the event PairCreacted from the Uniswap V2 Factory contract and prints the list of all pairs created on the Uniswap V2 protocol.\n",
    "# Imports\n",
    "from web3 import Web3"
   ]
  },
  {
   "cell_type": "code",
   "execution_count": 2,
   "metadata": {},
   "outputs": [],
   "source": [
    "# Connect to a local node\n",
    "\n",
    "nodes = ['https://mainnet.infura.io/v3/174e045511c742af9cbe23f6bd053402',\n",
    "         'https://mainnet.infura.io/v3/0731bcfffdb844daa0972c90e98da4e6',\n",
    "         'https://mainnet.infura.io/v3/6d0c853857a249878418776d98bf732a']\n",
    "NODE_URI = nodes[0]\n",
    "w3 = Web3(Web3.HTTPProvider(NODE_URI))\n",
    "w3local = Web3(Web3.HTTPProvider('http://localhost:8545'))\n"
   ]
  },
  {
   "cell_type": "code",
   "execution_count": 3,
   "metadata": {},
   "outputs": [],
   "source": [
    "# Define the contract address\n",
    "# Uniswap V2 factory contract address\n",
    "# contract_address = '0x5C69bEe701ef814a2B6a3EDD4B1652CB9cc5aA6f'\n",
    "# SushiSwap factory contract address\n",
    "contract_address = '0xC0AEe478e3658e2610c5F7A4A2E1777cE9e4f2Ac'"
   ]
  },
  {
   "cell_type": "code",
   "execution_count": 4,
   "metadata": {},
   "outputs": [],
   "source": [
    "\n",
    "# Define the contract ABI\n",
    "factory_abi = [\n",
    "    {\n",
    "        \"anonymous\": False,\n",
    "        \"inputs\": [\n",
    "            {\n",
    "                \"indexed\": True,\n",
    "                \"internalType\": \"address\",\n",
    "                \"name\": \"token0\",\n",
    "                \"type\": \"address\"\n",
    "            },\n",
    "            {\n",
    "                \"indexed\": True,\n",
    "                \"internalType\": \"address\",\n",
    "                \"name\": \"token1\",\n",
    "                \"type\": \"address\"\n",
    "            },\n",
    "            {\n",
    "                \"indexed\": False,\n",
    "                \"internalType\": \"address\",\n",
    "                \"name\": \"pair\",\n",
    "                \"type\": \"address\"\n",
    "            },\n",
    "            {\n",
    "                \"indexed\": False,\n",
    "                \"internalType\": \"uint256\",\n",
    "                \"name\": \"\",\n",
    "                \"type\": \"uint256\"\n",
    "            }\n",
    "        ],\n",
    "        \"name\": \"PairCreated\",\n",
    "        \"type\": \"event\"\n",
    "    }\n",
    "]"
   ]
  },
  {
   "cell_type": "code",
   "execution_count": 5,
   "metadata": {},
   "outputs": [
    {
     "name": "stdout",
     "output_type": "stream",
     "text": [
      "Found 3763 events\n"
     ]
    }
   ],
   "source": [
    "# Instantiate the contract\n",
    "factory_contract = w3.eth.contract(address=contract_address, abi=factory_abi)\n",
    "# Get events from the contract\n",
    "events = factory_contract.events.PairCreated().create_filter(fromBlock='0x0', toBlock='latest').get_all_entries()\n",
    "print(f'Found {len(events)} events')"
   ]
  },
  {
   "cell_type": "code",
   "execution_count": 6,
   "metadata": {},
   "outputs": [],
   "source": [
    "# %%\n",
    "# Implement a function that overcomes the 10k elements limitation of infura.\n",
    "def getPairEvents(contract, fromBlock, toBlock):\n",
    "    # This function tries to fetch all the events between fromBlock and toBlock\n",
    "    # If more than 10k events are found, the function recursively fetches the events in smaller time intervals until all the events are fetched.\n",
    "    # The function returns a list of all the events fetched.\n",
    "    # When the 10k limit is reached, get_all_entries() throws an error.\n",
    "    \n",
    "    if toBlock == 'latest':\n",
    "        toBlockPrime = w3.eth.block_number\n",
    "    else:\n",
    "        toBlockPrime = toBlock\n",
    "\n",
    "    fetchCount = 0\n",
    "    \n",
    "    # Then, recursively fetch events in smaller time intervals\n",
    "    def getEventsRecursive(contract, _from, _to):\n",
    "        try:\n",
    "            events = contract.events.PairCreated().create_filter(fromBlock=_from, toBlock=_to).get_all_entries()\n",
    "            print(\"Found \", len(events), \" events between blocks \", _from, \" and \", _to)\n",
    "            nonlocal fetchCount \n",
    "            fetchCount += len(events)\n",
    "            return events\n",
    "        except ValueError:\n",
    "            print(\"Too many events found between blocks \", _from, \" and \", _to)\n",
    "            midBlock = (_from + _to) // 2\n",
    "            return getEventsRecursive(contract, _from, midBlock) + getEventsRecursive(contract, midBlock + 1, _to)\n",
    "    \n",
    "    return getEventsRecursive(contract, fromBlock, toBlockPrime)"
   ]
  },
  {
   "cell_type": "code",
   "execution_count": 7,
   "metadata": {},
   "outputs": [
    {
     "name": "stdout",
     "output_type": "stream",
     "text": [
      "Found  3763  events between blocks  0  and  17756257\n",
      "Found 3763 events\n"
     ]
    }
   ],
   "source": [
    "# %%\n",
    "# Run the recursive getPairevents() function\n",
    "events = getPairEvents(factory_contract, 0, w3.eth.block_number)\n",
    "print(f'Found {len(events)} events')"
   ]
  },
  {
   "cell_type": "code",
   "execution_count": 8,
   "metadata": {},
   "outputs": [
    {
     "name": "stdout",
     "output_type": "stream",
     "text": [
      "Here is event #0: {'token0': '0x6B3595068778DD592e39A122f4f5a5cF09C90fE2', 'token1': '0xdAC17F958D2ee523a2206206994597C13D831ec7', 'pair': '0x680A025Da7b1be2c204D7745e809919bCE074026'}\n"
     ]
    }
   ],
   "source": [
    "# %%\n",
    "# Convert the events to a list of dictionaries\n",
    "pairDataList = [{'token0': e['args']['token0'],\n",
    "    'token1': e['args']['token1'],\n",
    "    'pair': e['args']['pair']} for e in events]\n",
    "print(f\"Here is event #0: {pairDataList[0]}\")"
   ]
  },
  {
   "cell_type": "code",
   "execution_count": 9,
   "metadata": {},
   "outputs": [],
   "source": [
    "# by the time being I can skip the solidity that reads reserves from pairs and use an existing contract\n",
    "queryContractAddress = \"0x6c618c74235c70DF9F6AD47c6b5E9c8D3876432B\""
   ]
  },
  {
   "cell_type": "code",
   "execution_count": 10,
   "metadata": {},
   "outputs": [],
   "source": [
    "# %%\n",
    "# The following parts compile and upload the contract code to a local node to experiment without paying gas fees. Later however, we will use the contract already deployed on the mainnet.\n",
    "# Be careful as the code will use the abi of the compiled contract, which will be different from the abi of the deployed contract if you make changes to it.\n",
    "contractContent = \"\"\"\n",
    "//SPDX-License-Identifier: UNLICENSED\n",
    "pragma solidity 0.8;\n",
    "\n",
    "pragma experimental ABIEncoderV2;\n",
    "\n",
    "interface IUniswapV2Pair {\n",
    "    function token0() external view returns (address);\n",
    "    function token1() external view returns (address);\n",
    "    function getReserves() external view returns (uint112 reserve0, uint112 reserve1, uint32 blockTimestampLast);\n",
    "}\n",
    "\n",
    "// Batch query contract\n",
    "contract UniswapFlashQuery {\n",
    "    function getReservesByPairs(IUniswapV2Pair[] calldata _pairs) external view returns (uint256[3][] memory) {\n",
    "        uint256[3][] memory result = new uint256[3][](_pairs.length);\n",
    "        for (uint i = 0; i < _pairs.length; i++) {\n",
    "            (result[i][0], result[i][1], result[i][2]) = _pairs[i].getReserves();\n",
    "        }\n",
    "        return result;\n",
    "    }\n",
    "    function getReservesByPairsYul(IUniswapV2Pair[] calldata _pairs) external view returns (bytes32[] memory) {\n",
    "        bytes32[] memory result = new bytes32[](_pairs.length * 3);\n",
    "\n",
    "        assembly {\n",
    "            let size := 0x60 // Size of the return data (reserve0, reserve1, blockTimestampLast)\n",
    "            let callData := mload(0x40) // Allocate memory for the function selector\n",
    "            mstore(callData, 0x0902f1ac00000000000000000000000000000000000000000000000000000000) // 4-byte function selector of the getReserves() function\n",
    "            \n",
    "            // Update the free memory pointer\n",
    "            mstore(0x40, add(callData, 0x04))\n",
    "            \n",
    "            // let pairsCount := shr(0xe0, calldataload(sub(_pairs.offset, 0x20))) // Get the length of the _pairs array\n",
    "            let pairsCount := _pairs.length\n",
    "\n",
    "            for { let i := 0 } lt(i, pairsCount) { i := add(i, 1) } {\n",
    "                // Load the pair address from the calldata\n",
    "                let pair := calldataload(add(_pairs.offset, mul(i, 0x20)))\n",
    "                    \n",
    "                // Call the getReserves() function with preallocated memory for function selector\n",
    "                let success := staticcall(gas(), pair, callData, 0x04, add(add(result, 0x20),mul(i, size)), size)\n",
    "                if iszero(success) {\n",
    "                    revert(0x00, 0x00)\n",
    "                }\n",
    "            }\n",
    "\n",
    "            // Update the free memory pointer\n",
    "            mstore(0x40, add(mload(0x40), mul(pairsCount, size)))\n",
    "        }\n",
    "\n",
    "        return result;\n",
    "    }\n",
    "}\n",
    "\"\"\""
   ]
  },
  {
   "cell_type": "code",
   "execution_count": 11,
   "metadata": {},
   "outputs": [
    {
     "name": "stdout",
     "output_type": "stream",
     "text": [
      "solc, the solidity compiler commandline interface\n",
      "Version: 0.8.0+commit.c7dfd78e.Linux.g++\n",
      "Bytecode: 608060405234801561001057600080fd5b50610a64806100206000396000f3fe608060405234801561001057600080fd5b50...\n"
     ]
    }
   ],
   "source": [
    "import solcx\n",
    "version = \"0.8.0\"\n",
    "filename = \"UniswapFlashQuery.sol\"\n",
    "Output = \"ir\"\n",
    "solcx.install_solc('0.8.0')   #ILDE\n",
    "\n",
    "compiled_sol = solcx.compile_standard(\n",
    "    {\n",
    "        \"language\": \"Solidity\",\n",
    "        \"sources\": {filename: {\"content\": contractContent}},\n",
    "        \"settings\": {\n",
    "            \"outputSelection\": {\n",
    "                \"*\": {\"*\": [\"abi\", \"metadata\", \"evm.bytecode\", \"evm.sourceMap\",Output]}\n",
    "            }\n",
    "        },\n",
    "    }#,\n",
    "    #solc_version=version,\n",
    ")\n",
    "\n",
    "name = filename.split('.')[0]\n",
    "res_bytecode = compiled_sol[\"contracts\"][filename][name][\"evm\"][\"bytecode\"][\"object\"]\n",
    "queryAbi = compiled_sol[\"contracts\"][filename][name][\"abi\"]\n",
    "# print(compiled_sol[\"contracts\"][filename][name][Output])\n",
    "\n",
    "# Export the bytecode\n",
    "print(f\"Bytecode: {res_bytecode[:100]}...\")"
   ]
  },
  {
   "cell_type": "code",
   "execution_count": 47,
   "metadata": {},
   "outputs": [],
   "source": [
    "# This code splits the request into chunks that are sent concurrently to the node.\n",
    "import asyncio\n",
    "from web3 import AsyncHTTPProvider\n",
    "from web3.eth import AsyncEth\n",
    "import time\n",
    "# If you test this code in a Jupyter notebook, sligh modifications are needed like nest_asyncio.apply() (google for more info)\n",
    "# [...]\n",
    "\n",
    "# Create a function that takes a list of pair data, and returns a list of reserves for each pair\n",
    "async def getReservesAsync(pairs, chunkSize=1000):\n",
    "    # Create an async web3 provider instance\n",
    "    w3Async = Web3(AsyncHTTPProvider(NODE_URI), modules={'eth': (AsyncEth)})\n",
    "\n",
    "    # Create contract object\n",
    "    queryContract = w3Async.eth.contract(address=queryContractAddress, abi=queryAbi)\n",
    "\n",
    "    # Create a list of chunks of pair addresses\n",
    "    chunks = [[pair['pair'] for pair in pairs[i:i + chunkSize]] for i in range(0, len(pairs), chunkSize)]\n",
    "\n",
    "    # Gather all the async tasks\n",
    "    tasks = [queryContract.functions.getReservesByPairs(pairs).call() for pairs in chunks]\n",
    "\n",
    "    # Run the tasks in parallel\n",
    "    results = await asyncio.gather(*tasks)\n",
    "\n",
    "    return results"
   ]
  },
  {
   "cell_type": "code",
   "execution_count": 48,
   "metadata": {},
   "outputs": [
    {
     "name": "stdout",
     "output_type": "stream",
     "text": [
      "Time taken: 3.5658562183380127 seconds. Fetched 4 reserves.\n"
     ]
    }
   ],
   "source": [
    "# Call the function\n",
    "\n",
    "# next 2 lines from: https://stackoverflow.com/questions/46827007/runtimeerror-this-event-loop-is-already-running-in-python\n",
    "import nest_asyncio\n",
    "nest_asyncio.apply()\n",
    "\n",
    "t0 = time.time()\n",
    "reserves = asyncio.get_event_loop().run_until_complete(getReservesAsync(pairDataList))\n",
    "print(f\"Time taken: {time.time() - t0} seconds. Fetched {len(reserves)} reserves.\")"
   ]
  },
  {
   "cell_type": "code",
   "execution_count": 50,
   "metadata": {},
   "outputs": [
    {
     "name": "stdout",
     "output_type": "stream",
     "text": [
      "Time taken: 3.139055013656616 seconds. Fetched 3763 results\n"
     ]
    }
   ],
   "source": [
    "# This code sends the request chunks to multiple nodes in parallel.\n",
    "\n",
    "# Define a list of node URIs\n",
    "NODE_URIS = ['https://mainnet.infura.io/v3/174e045511c742af9cbe23f6bd053402',\n",
    "             'https://mainnet.infura.io/v3/0731bcfffdb844daa0972c90e98da4e6',\n",
    "             'https://mainnet.infura.io/v3/6d0c853857a249878418776d98bf732a']\n",
    "\n",
    "providerList = [Web3(AsyncHTTPProvider(uri), modules={'eth': (AsyncEth)}) for uri in NODE_URIS]\n",
    "\n",
    "async def getReservesParallel(pairs, providers, chunkSize=1000):\n",
    "    # Create the contract objects\n",
    "    contracts = [provider.eth.contract(address=queryContractAddress, abi=queryAbi) for provider in providers]\n",
    "\n",
    "    # Create a list of chunks of pair addresses\n",
    "    chunks = [[pair[\"pair\"] for pair in pairs[i:i + chunkSize]] for i in range(0, len(pairs), chunkSize)]\n",
    "\n",
    "    # Assign each chunk to a provider in a round-robin fashion\n",
    "    tasks = [contracts[i % len(contracts)].functions.getReservesByPairs(pairs).call() for i, pairs in enumerate(chunks)]\n",
    "\n",
    "    # Run the tasks in parallel\n",
    "    results = await asyncio.gather(*tasks)\n",
    "    \n",
    "    # Flatten the results\n",
    "    results = [item for sublist in results for item in sublist]\n",
    "\n",
    "    return results\n",
    "\n",
    "# Call the function\n",
    "t0 = time.time()\n",
    "reserves = asyncio.get_event_loop().run_until_complete(getReservesParallel(pairDataList, providerList))\n",
    "print(f\"Time taken: {time.time() - t0} seconds. Fetched {len(reserves)} results\")"
   ]
  },
  {
   "cell_type": "code",
   "execution_count": null,
   "metadata": {},
   "outputs": [],
   "source": []
  }
 ],
 "metadata": {
  "kernelspec": {
   "display_name": "tr38",
   "language": "python",
   "name": "python3"
  },
  "language_info": {
   "codemirror_mode": {
    "name": "ipython",
    "version": 3
   },
   "file_extension": ".py",
   "mimetype": "text/x-python",
   "name": "python",
   "nbconvert_exporter": "python",
   "pygments_lexer": "ipython3",
   "version": "3.8.13"
  },
  "orig_nbformat": 4
 },
 "nbformat": 4,
 "nbformat_minor": 2
}
